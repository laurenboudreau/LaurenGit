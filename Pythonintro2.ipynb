{
 "cells": [
  {
   "cell_type": "markdown",
   "metadata": {},
   "source": [
    "# Conditional Statements"
   ]
  },
  {
   "cell_type": "code",
   "execution_count": null,
   "metadata": {},
   "outputs": [],
   "source": [
    "# If Statement\n",
    "\n",
    "temp = int(input(\"Enter your temperature: \"))\n",
    "dewpoint = int(input(\"Enter your dewpoint: \"))\n",
    "if temp > 75 and dewpoint > 65:\n",
    "    print(\"It is too warm and humid!\")\n",
    "elif temp > 75 and dewpoint <= 65:\n",
    "    print(\"The temperature is too warm\")\n",
    "else:\n",
    "    print(\"The temperature is ideal\")\n",
    "    "
   ]
  },
  {
   "cell_type": "code",
   "execution_count": 17,
   "metadata": {},
   "outputs": [
    {
     "name": "stdout",
     "output_type": "stream",
     "text": [
      "Enter your latitude in degrees: 95\n",
      "You are in the Northern Hemisphere\n",
      "You are outside the tropics\n",
      "It is out of bounds\n"
     ]
    }
   ],
   "source": [
    "#If Statement \n",
    "\n",
    "latitude = int(input(\"Enter your latitude in degrees: \"))\n",
    "if latitude == 0:\n",
    "    print (\"You are at the Equator\")\n",
    "elif latitude >0 and latitude <= 23.5:\n",
    "    print(\"You are in the tropics\")\n",
    "    print(\"You are in the Northern Hemisphere\")\n",
    "elif latitude > 23.5:\n",
    "    print(\"You are in the Northern Hemisphere\")\n",
    "    print(\"You are outside the tropics\")\n",
    "elif latitude <0 and latitude>= -23.5:\n",
    "    print(\"You are in the Southern Hemisphere\")\n",
    "    print(\"You are in the tropics\")\n",
    "elif latitude < -23.5:\n",
    "    print(\"You are in the Southern Hemisphere\")\n",
    "    print(\"You are outside the tropics\")\n",
    "if latitude < 90 or latitude >= -90:\n",
    "    print(\"It is out of bounds\")"
   ]
  },
  {
   "cell_type": "markdown",
   "metadata": {},
   "source": [
    "# Functions"
   ]
  },
  {
   "cell_type": "code",
   "execution_count": 19,
   "metadata": {},
   "outputs": [],
   "source": [
    "def name():\n",
    "    name = input(\"Enter your first name: \")\n",
    "    print(\"Hi! My name is {}. It is nice to meet you!\".format(name))"
   ]
  },
  {
   "cell_type": "code",
   "execution_count": 20,
   "metadata": {},
   "outputs": [
    {
     "name": "stdout",
     "output_type": "stream",
     "text": [
      "Enter your first name: lauren\n",
      "Hi! My name is lauren. It is nice to meet you!\n"
     ]
    }
   ],
   "source": [
    "name()"
   ]
  },
  {
   "cell_type": "code",
   "execution_count": 21,
   "metadata": {},
   "outputs": [],
   "source": [
    "# 34°18'28.28°N\n",
    "def dd(degree, minute, second, direction):\n",
    "    return direction * (degree + (minute + second/60.)/60.) "
   ]
  },
  {
   "cell_type": "code",
   "execution_count": 22,
   "metadata": {},
   "outputs": [
    {
     "data": {
      "text/plain": [
       "33.307855555555555"
      ]
     },
     "execution_count": 22,
     "metadata": {},
     "output_type": "execute_result"
    }
   ],
   "source": [
    "dd(33,18,28.28,1)"
   ]
  },
  {
   "cell_type": "code",
   "execution_count": 23,
   "metadata": {},
   "outputs": [],
   "source": [
    "def createlist():\n",
    "    templist = []\n",
    "    condition = True \n",
    "    while condition: \n",
    "        templist.append(float(input(\"Enter a temperature: \")))\n",
    "        quit = input(\"Would you like to continue? (Y or N): \")\n",
    "        if quit == 'N'or quit == 'n':\n",
    "            condition = False \n",
    "    return templist"
   ]
  },
  {
   "cell_type": "code",
   "execution_count": 24,
   "metadata": {},
   "outputs": [
    {
     "name": "stdout",
     "output_type": "stream",
     "text": [
      "Enter a temperature: 70\n",
      "Would you like to continue? (Y or N): y\n",
      "Enter a temperature: 20\n",
      "Would you like to continue? (Y or N): n\n"
     ]
    }
   ],
   "source": [
    "mylist = createlist()"
   ]
  },
  {
   "cell_type": "code",
   "execution_count": 25,
   "metadata": {},
   "outputs": [
    {
     "data": {
      "text/plain": [
       "[70.0, 20.0]"
      ]
     },
     "execution_count": 25,
     "metadata": {},
     "output_type": "execute_result"
    }
   ],
   "source": [
    "mylist"
   ]
  },
  {
   "cell_type": "code",
   "execution_count": 26,
   "metadata": {},
   "outputs": [
    {
     "data": {
      "text/plain": [
       "list"
      ]
     },
     "execution_count": 26,
     "metadata": {},
     "output_type": "execute_result"
    }
   ],
   "source": [
    "type(mylist)"
   ]
  },
  {
   "cell_type": "code",
   "execution_count": 27,
   "metadata": {},
   "outputs": [],
   "source": [
    "def fromfarhenheit(value):\n",
    "    return(value-32) / 1.8"
   ]
  },
  {
   "cell_type": "code",
   "execution_count": 28,
   "metadata": {},
   "outputs": [
    {
     "data": {
      "text/plain": [
       "0.0"
      ]
     },
     "execution_count": 28,
     "metadata": {},
     "output_type": "execute_result"
    }
   ],
   "source": [
    "fromfarhenheit(32)"
   ]
  },
  {
   "cell_type": "code",
   "execution_count": 29,
   "metadata": {},
   "outputs": [
    {
     "name": "stdout",
     "output_type": "stream",
     "text": [
      "My module is running\n"
     ]
    }
   ],
   "source": [
    "import myconversions"
   ]
  },
  {
   "cell_type": "code",
   "execution_count": 30,
   "metadata": {},
   "outputs": [],
   "source": [
    "def fromcelcius(value):\n",
    "    usertemp = (input(\"Enter the temp you want converted to degrees fahrenheit: \"))\n",
    "    temp = float(usertemp)\n",
    "    print(type(temp))\n",
    "    return((temp *1.8) + 32)"
   ]
  },
  {
   "cell_type": "code",
   "execution_count": 31,
   "metadata": {},
   "outputs": [
    {
     "name": "stdout",
     "output_type": "stream",
     "text": [
      "Enter the temp you want converted to degrees fahrenheit: 10\n",
      "<class 'float'>\n"
     ]
    },
    {
     "data": {
      "text/plain": [
       "50.0"
      ]
     },
     "execution_count": 31,
     "metadata": {},
     "output_type": "execute_result"
    }
   ],
   "source": [
    "fromcelcius(1)"
   ]
  },
  {
   "cell_type": "code",
   "execution_count": 32,
   "metadata": {},
   "outputs": [],
   "source": [
    "import math"
   ]
  },
  {
   "cell_type": "code",
   "execution_count": 33,
   "metadata": {},
   "outputs": [
    {
     "ename": "SyntaxError",
     "evalue": "invalid syntax (<ipython-input-33-853b35c5578a>, line 1)",
     "output_type": "error",
     "traceback": [
      "\u001b[0;36m  File \u001b[0;32m\"<ipython-input-33-853b35c5578a>\"\u001b[0;36m, line \u001b[0;32m1\u001b[0m\n\u001b[0;31m    math.sqrt())\u001b[0m\n\u001b[0m               ^\u001b[0m\n\u001b[0;31mSyntaxError\u001b[0m\u001b[0;31m:\u001b[0m invalid syntax\n"
     ]
    }
   ],
   "source": [
    "math.sqrt())"
   ]
  },
  {
   "cell_type": "code",
   "execution_count": null,
   "metadata": {},
   "outputs": [],
   "source": []
  }
 ],
 "metadata": {
  "kernelspec": {
   "display_name": "Python 3",
   "language": "python",
   "name": "python3"
  },
  "language_info": {
   "codemirror_mode": {
    "name": "ipython",
    "version": 3
   },
   "file_extension": ".py",
   "mimetype": "text/x-python",
   "name": "python",
   "nbconvert_exporter": "python",
   "pygments_lexer": "ipython3",
   "version": "3.7.4"
  }
 },
 "nbformat": 4,
 "nbformat_minor": 2
}
