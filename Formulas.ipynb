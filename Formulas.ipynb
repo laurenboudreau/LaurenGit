{
 "cells": [
  {
   "cell_type": "markdown",
   "metadata": {},
   "source": [
    "# Formulas"
   ]
  },
  {
   "cell_type": "markdown",
   "metadata": {},
   "source": [
    "## Basic Duties"
   ]
  },
  {
   "cell_type": "markdown",
   "metadata": {},
   "source": [
    "AI Perceptron -> how does an inaniment computer learn?"
   ]
  },
  {
   "cell_type": "markdown",
   "metadata": {},
   "source": [
    "- Learns by changing the perameters used in formula "
   ]
  },
  {
   "cell_type": "code",
   "execution_count": 7,
   "metadata": {},
   "outputs": [],
   "source": [
    "def flight_data():\n",
    "    H_fl_m = float(input(\"Enter flight height in meters: \"))\n",
    "    H_fl = (H_fl_m*1000)\n",
    "    f = float(input(\"Enter focal length in centimeters: \"))\n",
    "    Sen_sp = float(input(\"Enter Sensor Span in centimeters: \"))\n",
    "    Sen_br = float(input(\"Enter Sensor Breadth in centimeters: \"))\n",
    "    Image_sp = int(input(\"Enter Image Span in pixels: \"))\n",
    "    Image_br = int(input(\"Enter Image breadth in pixels: \"))\n",
    "    \n",
    "    GRD_sp = (Sen_sp*(H_fl/f))*1000\n",
    "    print(\"Ground span is: {} in meters\".format(GRD_sp))\n",
    "    GRD_br = (Sen_br*(H_fl/f))*1000\n",
    "    print(\"Ground breadth is {} in meters\".format(GRD_br))\n",
    "    \n",
    "    GSD_sp = (GRD_sp/Image_sp)/1000\n",
    "    print(\"GSD Span is {} in cm/pixel\".format(GSD_sp))\n",
    "    GSD_br = (GRD_br/Image_br)/1000\n",
    "    print(GSD_br is {} in cm/pixel. format(GSD_br))"
   ]
  },
  {
   "cell_type": "code",
   "execution_count": 8,
   "metadata": {},
   "outputs": [
    {
     "name": "stdout",
     "output_type": "stream",
     "text": [
      "Enter flight height in meters: 10\n",
      "Enter focal length in centimeters: 8.8\n",
      "Enter Sensor Span in centimeters: 8\n",
      "Enter Sensor Breadth in centimeters: 20\n",
      "Enter Image Span in pixels: 100\n",
      "Enter Image breadth in pixels: 100\n",
      "Ground span is: 9090909.09090909 in meters\n",
      "Ground breadth is 22727272.727272723 in meters\n",
      "GSD Span is 90.90909090909089 in cm/pixel\n",
      "False\n"
     ]
    }
   ],
   "source": [
    "flight_data()"
   ]
  },
  {
   "cell_type": "code",
   "execution_count": null,
   "metadata": {},
   "outputs": [],
   "source": []
  }
 ],
 "metadata": {
  "kernelspec": {
   "display_name": "Python 3",
   "language": "python",
   "name": "python3"
  },
  "language_info": {
   "codemirror_mode": {
    "name": "ipython",
    "version": 3
   },
   "file_extension": ".py",
   "mimetype": "text/x-python",
   "name": "python",
   "nbconvert_exporter": "python",
   "pygments_lexer": "ipython3",
   "version": "3.7.4"
  }
 },
 "nbformat": 4,
 "nbformat_minor": 2
}
