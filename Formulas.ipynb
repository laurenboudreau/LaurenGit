{
 "cells": [
  {
   "cell_type": "markdown",
   "metadata": {},
   "source": [
    "# Formulas"
   ]
  },
  {
   "cell_type": "markdown",
   "metadata": {},
   "source": [
    "## Basic Duties"
   ]
  },
  {
   "cell_type": "markdown",
   "metadata": {},
   "source": [
    "AI Perceptron -> how does an inaniment computer learn?"
   ]
  },
  {
   "cell_type": "markdown",
   "metadata": {},
   "source": [
    "- Learns by changing the perameters used in formula "
   ]
  },
  {
   "cell_type": "code",
   "execution_count": 18,
   "metadata": {},
   "outputs": [],
   "source": [
    "def flight_data():\n",
    "    H_fl_m = float(input(\"Enter flight height in meters: \"))\n",
    "    H_fl = (H_fl_m/1000)\n",
    "    f = float(input(\"Enter focal length in milimeters: \"))\n",
    "    Sen_sp = float(input(\"Enter Sensor Span in milimeters: \"))\n",
    "    Sen_br = float(input(\"Enter Sensor Breadth in milimeters: \"))\n",
    "    Image_sp = int(input(\"Enter Image Span in pixels: \"))\n",
    "    Image_br = int(input(\"Enter Image breadth in pixels: \"))\n",
    "    \n",
    "    GRD_sp = (Sen_sp*(H_fl/f))*1000\n",
    "    print(\"Ground span is: {} in meters\".format(GRD_sp))\n",
    "    GRD_br = (Sen_br*(H_fl/f))*1000\n",
    "    print(\"Ground breadth is {} in meters\".format(GRD_br))\n",
    "    \n",
    "    GSD_sp = (GRD_sp/Image_sp)*100\n",
    "    print(\"GSD Span is {} in cm/pixel\".format(GSD_sp))\n",
    "    GSD_br = (GRD_br/Image_br)*100\n",
    "    print(\"GSD Breadth is {} in cm/pixel\". format(GSD_br))"
   ]
  },
  {
   "cell_type": "code",
   "execution_count": 19,
   "metadata": {},
   "outputs": [
    {
     "name": "stdout",
     "output_type": "stream",
     "text": [
      "Enter flight height in meters: 33\n",
      "Enter focal length in milimeters: 8\n",
      "Enter Sensor Span in milimeters: 13.2\n",
      "Enter Sensor Breadth in milimeters: 8.8\n",
      "Enter Image Span in pixels: 5540\n",
      "Enter Image breadth in pixels: 3074\n",
      "Ground span is: 54.449999999999996 in meters\n",
      "Ground breadth is 36.300000000000004 in meters\n",
      "GSD Span is 0.9828519855595667 in cm/pixel\n",
      "GSD Breadth is 1.1808718282368251 in cm/pixel\n"
     ]
    }
   ],
   "source": [
    "flight_data()"
   ]
  },
  {
   "cell_type": "code",
   "execution_count": 23,
   "metadata": {},
   "outputs": [
    {
     "data": {
      "text/plain": [
       "10.887999999999996"
      ]
     },
     "execution_count": 23,
     "metadata": {},
     "output_type": "execute_result"
    }
   ],
   "source": [
    "(1-.80)*(54.44)"
   ]
  },
  {
   "cell_type": "code",
   "execution_count": null,
   "metadata": {},
   "outputs": [],
   "source": []
  }
 ],
 "metadata": {
  "kernelspec": {
   "display_name": "Python 3",
   "language": "python",
   "name": "python3"
  },
  "language_info": {
   "codemirror_mode": {
    "name": "ipython",
    "version": 3
   },
   "file_extension": ".py",
   "mimetype": "text/x-python",
   "name": "python",
   "nbconvert_exporter": "python",
   "pygments_lexer": "ipython3",
   "version": "3.7.4"
  }
 },
 "nbformat": 4,
 "nbformat_minor": 2
}
